{
 "cells": [
  {
   "cell_type": "code",
   "execution_count": 1,
   "metadata": {},
   "outputs": [
    {
     "name": "stdout",
     "output_type": "stream",
     "text": [
      "Requirement already satisfied: pyspark in c:\\programdata\\anaconda3\\lib\\site-packages (2.4.5)\n",
      "Requirement already satisfied: py4j==0.10.7 in c:\\programdata\\anaconda3\\lib\\site-packages (from pyspark) (0.10.7)\n",
      "Note: you may need to restart the kernel to use updated packages.\n"
     ]
    }
   ],
   "source": [
    "pip install pyspark"
   ]
  },
  {
   "cell_type": "code",
   "execution_count": 2,
   "metadata": {},
   "outputs": [
    {
     "name": "stdout",
     "output_type": "stream",
     "text": [
      "Requirement already satisfied: findspark in c:\\programdata\\anaconda3\\lib\\site-packages (1.3.0)\n",
      "Note: you may need to restart the kernel to use updated packages.\n"
     ]
    }
   ],
   "source": [
    "pip install findspark"
   ]
  },
  {
   "cell_type": "code",
   "execution_count": 3,
   "metadata": {},
   "outputs": [],
   "source": [
    "import findspark\n",
    "findspark.init()"
   ]
  },
  {
   "cell_type": "code",
   "execution_count": 4,
   "metadata": {},
   "outputs": [],
   "source": [
    "from pyspark.sql import SparkSession\n",
    "from pyspark.sql import *\n",
    "from pyspark.sql.types import DoubleType,IntegerType\n",
    "import pyspark.sql.functions as F\n",
    "\n",
    "spark = SparkSession \\\n",
    "    .builder \\\n",
    "    .appName(\"Exam\") \\\n",
    "    .getOrCreate()\n"
   ]
  },
  {
   "cell_type": "code",
   "execution_count": 5,
   "metadata": {},
   "outputs": [
    {
     "data": {
      "text/plain": [
       "DataFrame[Year: string, Datetime: string, Stage: string, Stadium: string, City: string, HomeTeamName: string, HomeTeamGoals: string, Away Team Goals: string, Away Team Name: string, Win conditions: string, Attendance: string, Half-time Home Goals: string, Half-time Away Goals: string, Referee: string, Assistant 1: string, Assistant 2: string, RoundID: string, MatchID: string, HomeTeamInitials: string, Away Team Initials: string]"
      ]
     },
     "execution_count": 5,
     "metadata": {},
     "output_type": "execute_result"
    }
   ],
   "source": [
    "df1  = spark.read.csv(\"C:\\\\Users\\\\Hari\\\\Downloads\\\\19728_29747_bundle_archive\\\\WorldCupMatches.csv\", header=True)\n",
    "df1"
   ]
  },
  {
   "cell_type": "code",
   "execution_count": 6,
   "metadata": {},
   "outputs": [
    {
     "name": "stdout",
     "output_type": "stream",
     "text": [
      "+--------------------+\n",
      "|             Stadium|\n",
      "+--------------------+\n",
      "|             Pocitos|\n",
      "|      Parque Central|\n",
      "|      Parque Central|\n",
      "|             Pocitos|\n",
      "|      Parque Central|\n",
      "|      Parque Central|\n",
      "|      Parque Central|\n",
      "|      Parque Central|\n",
      "|  Estadio Centenario|\n",
      "|  Estadio Centenario|\n",
      "|  Estadio Centenario|\n",
      "|  Estadio Centenario|\n",
      "|  Estadio Centenario|\n",
      "|  Estadio Centenario|\n",
      "|  Estadio Centenario|\n",
      "|  Estadio Centenario|\n",
      "|  Estadio Centenario|\n",
      "|  Estadio Centenario|\n",
      "|Stadio Benito Mus...|\n",
      "|   Giorgio Ascarelli|\n",
      "+--------------------+\n",
      "only showing top 20 rows\n",
      "\n"
     ]
    }
   ],
   "source": [
    "#query 1\n",
    "df1.select(\"Stadium\").show(20)"
   ]
  },
  {
   "cell_type": "code",
   "execution_count": 7,
   "metadata": {},
   "outputs": [
    {
     "name": "stdout",
     "output_type": "stream",
     "text": [
      "+---------------+-----+\n",
      "|           City|count|\n",
      "+---------------+-----+\n",
      "|    Montevideo |   18|\n",
      "|         Turin |    7|\n",
      "|        Naples |    7|\n",
      "|         Milan |    9|\n",
      "|       Bologna |    6|\n",
      "|      Florence |    7|\n",
      "|         Genoa |    5|\n",
      "|          Rome |    9|\n",
      "|       Trieste |    1|\n",
      "|         Paris |    9|\n",
      "|         Reims |    1|\n",
      "|      Colombes |    3|\n",
      "|      Toulouse |    8|\n",
      "|    Marseilles |    9|\n",
      "|    Strasbourg |    1|\n",
      "|      Le Havre |    1|\n",
      "|      Bordeaux |    9|\n",
      "|         Lille |    1|\n",
      "|       Antibes |    1|\n",
      "|Rio De Janeiro |   18|\n",
      "+---------------+-----+\n",
      "only showing top 20 rows\n",
      "\n"
     ]
    }
   ],
   "source": [
    "#query 2 \n",
    "df1.groupBy(\"City\").count().show(20)"
   ]
  },
  {
   "cell_type": "code",
   "execution_count": 8,
   "metadata": {},
   "outputs": [],
   "source": [
    "df2  = spark.read.csv(\"WorldCups.csv\", header=True)"
   ]
  },
  {
   "cell_type": "code",
   "execution_count": 9,
   "metadata": {},
   "outputs": [
    {
     "name": "stdout",
     "output_type": "stream",
     "text": [
      "+-----------------+--------------------+-----------+\n",
      "|            Stage|             Stadium|       City|\n",
      "+-----------------+--------------------+-----------+\n",
      "|          Group 1|             Pocitos|Montevideo |\n",
      "|          Group 4|      Parque Central|Montevideo |\n",
      "|          Group 2|      Parque Central|Montevideo |\n",
      "|          Group 3|             Pocitos|Montevideo |\n",
      "|          Group 1|      Parque Central|Montevideo |\n",
      "|          Group 1|      Parque Central|Montevideo |\n",
      "|          Group 2|      Parque Central|Montevideo |\n",
      "|          Group 4|      Parque Central|Montevideo |\n",
      "|          Group 3|  Estadio Centenario|Montevideo |\n",
      "|          Group 1|  Estadio Centenario|Montevideo |\n",
      "|          Group 1|  Estadio Centenario|Montevideo |\n",
      "|          Group 2|  Estadio Centenario|Montevideo |\n",
      "|          Group 4|  Estadio Centenario|Montevideo |\n",
      "|          Group 3|  Estadio Centenario|Montevideo |\n",
      "|          Group 1|  Estadio Centenario|Montevideo |\n",
      "|      Semi-finals|  Estadio Centenario|Montevideo |\n",
      "|      Semi-finals|  Estadio Centenario|Montevideo |\n",
      "|            Final|  Estadio Centenario|Montevideo |\n",
      "|Preliminary round|Stadio Benito Mus...|     Turin |\n",
      "|Preliminary round|   Giorgio Ascarelli|    Naples |\n",
      "+-----------------+--------------------+-----------+\n",
      "only showing top 20 rows\n",
      "\n",
      "+----+------------+----------+\n",
      "|year|     Country|    Winner|\n",
      "+----+------------+----------+\n",
      "|1930|     Uruguay|   Uruguay|\n",
      "|1934|       Italy|     Italy|\n",
      "|1938|      France|     Italy|\n",
      "|1950|      Brazil|   Uruguay|\n",
      "|1954| Switzerland|Germany FR|\n",
      "|1958|      Sweden|    Brazil|\n",
      "|1962|       Chile|    Brazil|\n",
      "|1966|     England|   England|\n",
      "|1970|      Mexico|    Brazil|\n",
      "|1974|     Germany|Germany FR|\n",
      "|1978|   Argentina| Argentina|\n",
      "|1982|       Spain|     Italy|\n",
      "|1986|      Mexico| Argentina|\n",
      "|1990|       Italy|Germany FR|\n",
      "|1994|         USA|    Brazil|\n",
      "|1998|      France|    France|\n",
      "|2002| Korea/Japan|    Brazil|\n",
      "|2006|     Germany|     Italy|\n",
      "|2010|South Africa|     Spain|\n",
      "|2014|      Brazil|   Germany|\n",
      "+----+------------+----------+\n",
      "\n"
     ]
    }
   ],
   "source": [
    "df1.createOrReplaceTempView(\"WorldCupMatches\")\n",
    "sqlDF1 = spark.sql(\"SELECT Stage, Stadium, City from WorldCupMatches\")\n",
    "sqlDF1.show(20)\n",
    "\n",
    "df2.createOrReplaceTempView(\"worldcups\")\n",
    "sqlDF2 = spark.sql(\"SELECT year, Country, Winner FROM worldcups\")\n",
    "sqlDF2.show()"
   ]
  },
  {
   "cell_type": "code",
   "execution_count": 10,
   "metadata": {},
   "outputs": [
    {
     "name": "stdout",
     "output_type": "stream",
     "text": [
      "+-----------------+--------------------+-----------+----------+-------+\n",
      "|            Stage|             Stadium|       City|Attendance|MatchID|\n",
      "+-----------------+--------------------+-----------+----------+-------+\n",
      "|          Group 1|             Pocitos|Montevideo |      4444|   1096|\n",
      "|          Group 4|      Parque Central|Montevideo |     18346|   1090|\n",
      "|          Group 2|      Parque Central|Montevideo |     24059|   1093|\n",
      "|          Group 3|             Pocitos|Montevideo |      2549|   1098|\n",
      "|          Group 1|      Parque Central|Montevideo |     23409|   1085|\n",
      "|          Group 1|      Parque Central|Montevideo |      9249|   1095|\n",
      "|          Group 2|      Parque Central|Montevideo |     18306|   1092|\n",
      "|          Group 4|      Parque Central|Montevideo |     18306|   1097|\n",
      "|          Group 3|  Estadio Centenario|Montevideo |     57735|   1099|\n",
      "|          Group 1|  Estadio Centenario|Montevideo |      2000|   1094|\n",
      "|          Group 1|  Estadio Centenario|Montevideo |     42100|   1086|\n",
      "|          Group 2|  Estadio Centenario|Montevideo |     25466|   1091|\n",
      "|          Group 4|  Estadio Centenario|Montevideo |     12000|   1089|\n",
      "|          Group 3|  Estadio Centenario|Montevideo |     70022|   1100|\n",
      "|          Group 1|  Estadio Centenario|Montevideo |     41459|   1084|\n",
      "|      Semi-finals|  Estadio Centenario|Montevideo |     72886|   1088|\n",
      "|      Semi-finals|  Estadio Centenario|Montevideo |     79867|   1101|\n",
      "|            Final|  Estadio Centenario|Montevideo |     68346|   1087|\n",
      "|Preliminary round|Stadio Benito Mus...|     Turin |     16000|   1104|\n",
      "|Preliminary round|   Giorgio Ascarelli|    Naples |      9000|   1119|\n",
      "+-----------------+--------------------+-----------+----------+-------+\n",
      "only showing top 20 rows\n",
      "\n"
     ]
    }
   ],
   "source": [
    "df1.createGlobalTempView(\"WorldCupMatches\")\n",
    "spark.sql(\"SELECT Stage, Stadium, City, Attendance, MatchID FROM global_temp.WorldCupMatches\").show(20)"
   ]
  },
  {
   "cell_type": "code",
   "execution_count": 11,
   "metadata": {},
   "outputs": [
    {
     "name": "stdout",
     "output_type": "stream",
     "text": [
      "+----+------------+-----------+\n",
      "|Year|     Country|GoalsScored|\n",
      "+----+------------+-----------+\n",
      "|1954| Switzerland|        140|\n",
      "|1958|      Sweden|        126|\n",
      "|1978|   Argentina|        102|\n",
      "|1982|       Spain|        146|\n",
      "|1986|      Mexico|        132|\n",
      "|1990|       Italy|        115|\n",
      "|1994|         USA|        141|\n",
      "|1998|      France|        171|\n",
      "|2002| Korea/Japan|        161|\n",
      "|2006|     Germany|        147|\n",
      "|2010|South Africa|        145|\n",
      "|2014|      Brazil|        171|\n",
      "+----+------------+-----------+\n",
      "\n"
     ]
    }
   ],
   "source": [
    "#query 5\n",
    "z = spark.sql(\"SELECT Year, Country, GoalsScored From worldcups WHERE GoalsScored>100\")\n",
    "z.show()"
   ]
  },
  {
   "cell_type": "code",
   "execution_count": 12,
   "metadata": {},
   "outputs": [
    {
     "name": "stdout",
     "output_type": "stream",
     "text": [
      "+----+--------------------+-----+--------------------+------------------+------------+-------------+---------------+--------------+--------------------+----------+--------------------+--------------------+--------------------+--------------------+--------------------+--------+---------+----------------+------------------+\n",
      "|Year|            Datetime|Stage|             Stadium|              City|HomeTeamName|HomeTeamGoals|Away Team Goals|Away Team Name|      Win conditions|Attendance|Half-time Home Goals|Half-time Away Goals|             Referee|         Assistant 1|         Assistant 2| RoundID|  MatchID|HomeTeamInitials|Away Team Initials|\n",
      "+----+--------------------+-----+--------------------+------------------+------------+-------------+---------------+--------------+--------------------+----------+--------------------+--------------------+--------------------+--------------------+--------------------+--------+---------+----------------+------------------+\n",
      "|1930|30 Jul 1930 - 14:15 |Final|  Estadio Centenario|       Montevideo |     Uruguay|            4|              2|     Argentina|                    |     68346|                   1|                   2| LANGENUS Jean (BEL)|SAUCEDO Ulises (BOL)|CRISTOPHE Henry (...|     405|     1087|             URU|               ARG|\n",
      "|1934|10 Jun 1934 - 17:30 |Final|       Nazionale PNF|             Rome |       Italy|            2|              1|Czechoslovakia|Italy win after e...|     55000|                   0|                   0|   EKLIND Ivan (SWE)|   BAERT Louis (BEL)|IVANCSICS Mihaly ...|    3490|     1134|             ITA|               TCH|\n",
      "|1938|19 Jun 1938 - 17:00 |Final|     Stade Olympique|         Colombes |       Italy|            4|              2|       Hungary|                    |     45000|                   3|                   1|CAPDEVILLE George...|WUETHRICH Hans (SUI)|  KRIST Gustav (TCH)|    3487|     1174|             ITA|               HUN|\n",
      "|1954|04 Jul 1954 - 17:00 |Final|    Wankdorf Stadium|            Berne |  Germany FR|            3|              2|       Hungary|                    |     62500|                   2|                   2|  LING William (ENG)|ORLANDINI Vincenz...|GRIFFITHS Benjami...|    3484|     1278|             FRG|               HUN|\n",
      "|1958|29 Jun 1958 - 15:00 |Final|     Rasunda Stadium|            Solna |      Brazil|            5|              2|        Sweden|                    |     49737|                   2|                   1|GUIGUE Maurice (FRA)|  DUSCH Albert (GER)|GARDEAZABAL Juan ...|    3482|     1343|             BRA|               SWE|\n",
      "|1962|17 Jun 1962 - 14:30 |Final|            Nacional|Santiago De Chile |      Brazil|            3|              1|Czechoslovakia|                    |     68679|                   1|                   1|LATYCHEV Nikolaj ...|      HORN Leo (NED)|  DAVIDSON Bob (SCO)|    3480|     1463|             BRA|               TCH|\n",
      "|1966|30 Jul 1966 - 15:00 |Final|     Wembley Stadium|           London |     England|            4|              2|    Germany FR|England win after...|     96924|                   0|                   0|DIENST Gottfried ...|BAKHRAMOV Tofik (...|   GALBA Karol (TCH)|    3478|     1633|             ENG|               FRG|\n",
      "|1970|21 Jun 1970 - 12:00 |Final|      Estadio Azteca|      Mexico City |      Brazil|            4|              1|         Italy|                    |    107412|                   1|                   1|GLOECKNER Rudolf ...|SCHEURER Ruedi (SUI)|COEREZZA Norberto...|    3476|     1765|             BRA|               ITA|\n",
      "|1974|07 July 1974 - 16...|Final|      Olympiastadion|           Munich | Netherlands|            1|              2|    Germany FR|                    |     78200|                   1|                   2|   TAYLOR John (ENG)|GONZALEZ ARCHUNDI...|BARRETO RUIZ Ramo...|     605|     2063|             NED|               FRG|\n",
      "|1978|25 Jun 1978 - 15:00 |Final|El Monumental - E...|     Buenos Aires |   Argentina|            3|              1|   Netherlands|Argentina win aft...|     71483|                   0|                   0|GONELLA Sergio (ITA)|BARRETO RUIZ Ramo...|LINEMAYR Erich (AUT)|     639|     2198|             ARG|               NED|\n",
      "|1982|11 Jul 1982 - 20:00 |Final|   Santiago Bernabeu|           Madrid |       Italy|            3|              1|    Germany FR|                    |     90000|                   0|                   0|COELHO Arnaldo (BRA)| KLEIN Abraham (ISR)|CHRISTOV Vojtech ...|    3475|      923|             ITA|               FRG|\n",
      "|1986|29 Jun 1986 - 12:00 |Final|      Estadio Azteca|      Mexico City |   Argentina|            3|              2|    Germany FR|                    |    114600|                   1|                   0|ARPPI FILHO Romua...|FREDRIKSSON Erik ...|ULLOA MORERA Bern...|    3467|      393|             ARG|               FRG|\n",
      "|1990|08 Jul 1990 - 20:00 |Final|     Stadio Olimpico|             Rome |  Germany FR|            1|              0|     Argentina|                    |     73603|                   0|                   0|CODESAL MENDEZ Ed...|PEREZ HOYOS Arman...|LISTKIEWICZ Micha...|    3462|       27|             FRG|               ARG|\n",
      "|1994|17 Jul 1994 - 12:30 |Final|           Rose Bowl|      Los Angeles |      Brazil|            0|              0|         Italy|Brazil win on pen...|     94194|                   0|                   0|   PUHL Sandor (HUN)|ZARATE Venancio (...|FANAEI Mohammad (...|    3459|     3104|             BRA|               ITA|\n",
      "|1998|12 Jul 1998 - 21:00 |Final|     Stade de France|      Saint-Denis |      Brazil|            0|              3|        France|                    |     80000|                   0|                   2|  BELQOLA Said (MAR)|   WARREN Mark (ENG)|  SALIE Achmat (RSA)|    1027|     8788|             BRA|               FRA|\n",
      "|2002|30 Jun 2002 - 20:00 |Final|International Sta...|         Yokohama |     Germany|            0|              2|        Brazil|                    |     69029|                   0|                   0|COLLINA Pierluigi...| LINDBERG Leif (SWE)|  SHARP Philip (ENG)|43950600| 43950064|             GER|               BRA|\n",
      "|2006|09 Jul 2006 - 20:00 |Final|      Olympiastadion|           Berlin |       Italy|            1|              1|        France|Italy win on pena...|     69000|                   0|                   0|ELIZONDO Horacio ...|  GARCIA Dario (ARG)| OTERO Rodolfo (ARG)|97410600| 97410064|             ITA|               FRA|\n",
      "|2010|11 Jul 2010 - 20:30 |Final| Soccer City Stadium|     Johannesburg | Netherlands|            0|              1|         Spain|Spain win after e...|     84490|                   0|                   0|   WEBB Howard (ENG)|   Darren CANN (ENG)|MULLARKEY Michael...|  249721|300061509|             NED|               ESP|\n",
      "|2014|13 Jul 2014 - 16:00 |Final| Estadio do Maracana|   Rio De Janeiro |     Germany|            1|              0|     Argentina|Germany win after...|     74738|                   0|                   0|Nicola RIZZOLI (ITA)|Renato FAVERANI (...|Andrea STEFANI (ITA)|  255959|300186501|             GER|               ARG|\n",
      "|2014|13 Jul 2014 - 16:00 |Final| Estadio do Maracana|   Rio De Janeiro |     Germany|            1|              0|     Argentina|Germany win after...|     74738|                   0|                   0|Nicola RIZZOLI (ITA)|Renato FAVERANI (...|Andrea STEFANI (ITA)|  255959|300186501|             GER|               ARG|\n",
      "+----+--------------------+-----+--------------------+------------------+------------+-------------+---------------+--------------+--------------------+----------+--------------------+--------------------+--------------------+--------------------+--------------------+--------+---------+----------------+------------------+\n",
      "\n"
     ]
    }
   ],
   "source": [
    "#query 6\n",
    "Pattern_reg = spark.sql(\"SELECT * from WorldCupMatches WHERE Stage LIKE 'Final'\")\n",
    "Pattern_reg.show()"
   ]
  },
  {
   "cell_type": "code",
   "execution_count": 13,
   "metadata": {},
   "outputs": [
    {
     "name": "stdout",
     "output_type": "stream",
     "text": [
      "+-------+\n",
      "|Country|\n",
      "+-------+\n",
      "|  Chile|\n",
      "|England|\n",
      "| Mexico|\n",
      "+-------+\n",
      "\n"
     ]
    }
   ],
   "source": [
    "#query 7\n",
    "Goals = spark.sql(\"SELECT Country FROM WorldCups WHERE MatchesPlayed LIKE '32' \")\n",
    "Goals.show()\n"
   ]
  },
  {
   "cell_type": "code",
   "execution_count": 14,
   "metadata": {},
   "outputs": [
    {
     "name": "stdout",
     "output_type": "stream",
     "text": [
      "+--------------------+------------+\n",
      "|             Stadium|max(RoundID)|\n",
      "+--------------------+------------+\n",
      "|      Olympiastadion|    97410600|\n",
      "|Gottlieb-Daimler-...|    97410500|\n",
      "|FIFA World Cup St...|    97410400|\n",
      "|FIFA World Cup St...|    97410400|\n",
      "|FIFA World Cup St...|    97410300|\n",
      "|FIFA World Cup St...|    97410300|\n",
      "|FIFA World Cup St...|    97410300|\n",
      "|      Zentralstadion|    97410200|\n",
      "|FIFA World Cup St...|    97410200|\n",
      "|Fritz-Walter-Stadion|    97410200|\n",
      "|FIFA World Cup St...|    97410200|\n",
      "|     Franken-Stadion|    97410200|\n",
      "|International Sta...|    43950600|\n",
      "|Daegu World Cup S...|    43950500|\n",
      "|Saitama Stadium 2002|    43950400|\n",
      "|Seoul World Cup S...|    43950400|\n",
      "|Gwangju World Cup...|    43950300|\n",
      "| Osaka Nagai Stadium|    43950300|\n",
      "|Munsu Football St...|    43950300|\n",
      "|Shizuoka Stadium ...|    43950300|\n",
      "+--------------------+------------+\n",
      "only showing top 20 rows\n",
      "\n"
     ]
    }
   ],
   "source": [
    "#query 8\n",
    "query8 = spark.sql(\"SELECT Stadium, MAX(RoundID) from WorldCupMatches where Year BETWEEN 2000 AND 2010 GROUP BY Stadium ORDER BY 2 DESC\")\n",
    "query8.show()"
   ]
  },
  {
   "cell_type": "code",
   "execution_count": 15,
   "metadata": {},
   "outputs": [
    {
     "name": "stdout",
     "output_type": "stream",
     "text": [
      "+--------------+--------+\n",
      "|  HomeTeamName|avggoals|\n",
      "+--------------+--------+\n",
      "|        France|     2.0|\n",
      "|           USA|     1.0|\n",
      "|    Yugoslavia|     2.0|\n",
      "|       Romania|     2.0|\n",
      "|     Argentina|     2.0|\n",
      "|         Chile|     2.0|\n",
      "|       Uruguay|     2.0|\n",
      "|        Brazil|     2.0|\n",
      "|      Paraguay|     1.0|\n",
      "|       Austria|     2.0|\n",
      "|       Hungary|     4.0|\n",
      "|   Switzerland|     2.0|\n",
      "|        Sweden|     2.0|\n",
      "|       Germany|     2.0|\n",
      "|         Spain|     2.0|\n",
      "|         Italy|     2.0|\n",
      "|Czechoslovakia|     3.0|\n",
      "|          Cuba|     3.0|\n",
      "|       England|     2.0|\n",
      "|    Germany FR|     2.0|\n",
      "+--------------+--------+\n",
      "only showing top 20 rows\n",
      "\n"
     ]
    }
   ],
   "source": [
    "#query 9\n",
    "Avg_goals = spark.sql(\"SELECT HomeTeamName, ROUND(AVG(HomeTeamGoals),0) AS avggoals FROM WorldCupMatches GROUP BY HomeTeamName\")\n",
    "Avg_goals.show()"
   ]
  },
  {
   "cell_type": "code",
   "execution_count": 27,
   "metadata": {},
   "outputs": [
    {
     "name": "stdout",
     "output_type": "stream",
     "text": [
      "+--------------+-----------+\n",
      "|       COUNTRY|No_of_Times|\n",
      "+--------------+-----------+\n",
      "|        Brazil|         18|\n",
      "|    Germany FR|         11|\n",
      "|       Hungary|         10|\n",
      "|     Argentina|          9|\n",
      "|        France|          8|\n",
      "|       Germany|          6|\n",
      "|       Uruguay|          6|\n",
      "|         Italy|          5|\n",
      "|    Yugoslavia|          5|\n",
      "|   Netherlands|          3|\n",
      "|      Portugal|          3|\n",
      "|  Soviet Union|          3|\n",
      "|        Sweden|          2|\n",
      "|       Austria|          2|\n",
      "|       England|          2|\n",
      "|Czechoslovakia|          2|\n",
      "|   Switzerland|          2|\n",
      "|         Spain|          2|\n",
      "|         Chile|          1|\n",
      "|        Turkey|          1|\n",
      "+--------------+-----------+\n",
      "only showing top 20 rows\n",
      "\n"
     ]
    }
   ],
   "source": [
    "#query 10\n",
    "query10 = spark.sql(\"SELECT HomeTeamName As COUNTRY,COUNT(HomeTeamGoals) AS No_of_Times FROM WorldCupMatches where HomeTeamGoals>=4 GROUP BY HomeTeamName ORDER BY 2 DESC\")\n",
    "query10.show()"
   ]
  }
 ],
 "metadata": {
  "kernelspec": {
   "display_name": "Python 3",
   "language": "python",
   "name": "python3"
  },
  "language_info": {
   "codemirror_mode": {
    "name": "ipython",
    "version": 3
   },
   "file_extension": ".py",
   "mimetype": "text/x-python",
   "name": "python",
   "nbconvert_exporter": "python",
   "pygments_lexer": "ipython3",
   "version": "3.7.6"
  }
 },
 "nbformat": 4,
 "nbformat_minor": 4
}
